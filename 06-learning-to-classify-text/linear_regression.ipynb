{
 "cells": [
  {
   "cell_type": "markdown",
   "metadata": {},
   "source": [
    "## Introduction to Machine Learning for Sentiment Analysis\n",
    "\n",
    "Today we will learn to build a very simple sentiment predictor, which will allow us to forecast the rating of short product reviews on a scale from very positive (5 stars) to very negative (1 star), based on the content of the text only. \n",
    "We will pretend that we can only see the text, and try to predict how many stars the user gave the product based on its tone. \n",
    "\n",
    "This is a useful exercise for situations in which we don't have a \"star rating\" easily available. For example, if we are running our own business, many users will probably write tweets or Facebook posts in which they state their opinion of the business, and we want to be able to quickly sort the good from the bad reviews.\n",
    "\n",
    "For this project, we start by setting up our Python environment, and downloading a couple of example datasets (Amazon product reviews) from the Internet. These data were collected by [Julian McAuley, UCSD][1]\n",
    "\n",
    "[1]: http://jmcauley.ucsd.edu/data/amazon/\n"
   ]
  },
  {
   "cell_type": "code",
   "execution_count": 3,
   "metadata": {},
   "outputs": [
    {
     "name": "stdout",
     "output_type": "stream",
     "text": [
      "Downloaded dataset Baby and saved it to ./data/\n"
     ]
    }
   ],
   "source": [
    "%matplotlib inline\n",
    "import urllib.request, os, gzip\n",
    "\n",
    "datadir = './data/'\n",
    "\n",
    "def download_data(dataset_name, datadir):\n",
    "    filename = 'reviews_%s_5.json' % dataset_name\n",
    "    filepath = os.path.join(datadir, filename)\n",
    "    if os.path.exists(filepath):\n",
    "        print(\"Dataset %s has already been downloaded to %s\" % (dataset_name, datadir))\n",
    "    else:\n",
    "        url = 'http://snap.stanford.edu/data/amazon/productGraph/categoryFiles/%s.gz' % filename\n",
    "        urllib.request.urlretrieve(url, filepath + \".gz\")\n",
    "        with gzip.open(filepath + \".gz\", 'rb') as fin:\n",
    "            with open(filepath, 'wb') as fout:\n",
    "                fout.write(fin.read())\n",
    "        print(\"Downloaded dataset %s and saved it to %s\" % (dataset_name, datadir))\n",
    "\n",
    "dataset = \"Baby\"\n",
    "download_data(dataset, datadir)\n"
   ]
  },
  {
   "cell_type": "markdown",
   "metadata": {},
   "source": [
    "The data we use have been stored in the JSON format, which is a standard format for exchanging data over the Internet. The \"JS\" stands for JavaScript, which we'll learn about in week 5 of the summer of code! But Python allows us to read these data using the json library:"
   ]
  },
  {
   "cell_type": "code",
   "execution_count": 4,
   "metadata": {},
   "outputs": [
    {
     "name": "stdout",
     "output_type": "stream",
     "text": [
      "Loaded 160792 data for dataset Baby\n",
      "\n",
      "{'reviewerID': 'A2H4QWDVXARPAU', 'asin': 'B0000TYHD2', 'reviewerName': 'Erin White \"Erin\"', 'helpful': [7, 8], 'reviewText': \"I bought this pump for my new baby because it just as others below have said it looks more comfortable than others and it is! Including Medela. With my other child I encountered breastfeeding problems and had a horrible cheap pump. Now with my new baby she was born with a heart problem (she is fine now after a long road to recovery) and had to stay in the hospital for an extended length of time. Meanwhile I had other children at home and we live 6 hours away from our family and so I had no choice but to divide my time between the hospital and home, which meant I needed a hospital grade pump originally I rented one from the hospital (Medela) and it made my breasts hurt really bad. On the way home from the hospital I stopped in at Babiesrus and bought this pump because it was on our registry (we studied and found it to be more comfortable and with coupons it was much cheaper than Medela,) and started using it and I have been so happy with it that sometimes I still use it so my husband can give her a bottle! I love that all I have to do is pump it and add a nipple and its ready to go and its also easier to store than regular breastmilk bags from medela and its also less expensive also. I love the quiet operation I can pump while were watching tv and we don't have to turn the tv up!\", 'overall': 5.0, 'summary': 'Has more comforts than Medela!', 'unixReviewTime': 1116547200, 'reviewTime': '05 20, 2005', 'hash': -728712922}\n"
     ]
    }
   ],
   "source": [
    "import json\n",
    "\n",
    "def load_data(dataset_name, datadir):\n",
    "    filepath = os.path.join(datadir, 'reviews_%s_5.json' % dataset_name)\n",
    "    if not os.path.exists(filepath):\n",
    "        download_data(dataset_name, datadir)\n",
    "    data = []\n",
    "    with open(filepath, 'r') as f:\n",
    "        for line in f:                            # read file line by line\n",
    "            item_hash = hash(line)                # we will use this later for partitioning our data \n",
    "            item = json.loads(line)               # convert JSON string to Python dict\n",
    "            item['hash'] = item_hash              # add hash for identification purposes\n",
    "            data.append(item)\n",
    "    print(\"Loaded %d data for dataset %s\" % (len(data), dataset_name))\n",
    "    return data\n",
    "\n",
    "# load the data...\n",
    "baby = load_data(dataset, datadir)\n",
    "\n",
    "# Let's have a look at an example item (item number 9426):\n",
    "print()\n",
    "print(baby[9426])\n",
    "\n",
    "#for i, l in enumerate(baby):\n",
    "#    if l['overall'] == 5.0 and 'horrible' in l['reviewText'] and 'bad' in l['reviewText'] and l['helpful'][0]>0:\n",
    "#        print(i, l['reviewText'])"
   ]
  },
  {
   "cell_type": "markdown",
   "metadata": {},
   "source": [
    "We see that the dataset contains **160792** data items, with **9 fields** called `reviewTime, asin, reviewerID, reviewText, unixReviewTime, summary, helpful, reviewerName, overall`. For example, this particular review was written on May 20, 2005, by the user 'Erin White \"Erin\"'. Erin summarized the product as \"Has more comforts than Medela!\" and gave it 5 stars (out of 5). 7 out of 8 other users rated this review helpful. We also added a hash, which is a single number summarizing the whole data item. For now we can view it as a random ID that is (extremely likely to be) unique for each data item, a bit like a US social security number.\n",
    "\n",
    "For this project, we will ignore all fields except **reviewText** and **overall** (i.e. the overall rating in stars out of five). **The idea is to find out if we can infer the star rating (how much the user liked the product) by only looking at the text**. This way we can learn how to automatically analyze even texts that come without a star rating, such as Facebook posts or tweets.\n",
    "\n",
    "Before we start building a complicated AI solution, it is good practice to **first implement a very simple \"baseline predictor\" and measure its performance**. This way we get a feeling on how hard (or easy) the problem is. For example, we can check for the presence of certain words with strong positive or negative connotations, such as \"good\" or \"fantastic\" versus \"bad\" or \"poor\". Note that this review contains the words \"horrible\", \"hurt\", \"bad\" and \"problem\", and still received 5 stars. This gives us already a feeling for the difficulty of the sentiment analysis problem.\n",
    "\n",
    "Before we develop our first sentiment predictor, we need to partition our data into a **training set**, a **validation set**, and a **test set**. This is something we should do in all our machine learning projects. The idea is that our predictor might overgeneralize from the examples we show it if we are not careful. This is a bit like a child whom you have shown how an iPad works, and then they try to swipe everything that looks like a screen (the TV, the microwave etc.)\n",
    "\n",
    "For instance, the example review listed above might be the only review with the phrase \"6 hours\" in it, and our predictor might learn a rule that the phrase \"6 hours\" is indicative of a high star rating. Such a rule would be unlikely to generalize well to new reviews that we didn't show to the predictor while it was training. So after training our predictor (using only examples from the training set), we need to be able to measure its performance on reviews it hasn't seen yet, which is what the test set is for. We use the validation set because we may want to explore different predictor variants and get an idea on how well they perform on unseen examples before committing to one.\n",
    "\n",
    "Therefore the **general procedure when developing a predictor using machine learning** is as follows:\n",
    "\n",
    "- Train **several variants** of a predictor using examples from the *training set* only.\n",
    "\n",
    "- Use the predictor performance on the *validation set* to select a single best predictor among all the possible variants. This step also involves debugging our implementation of the predictor, tweaking its parameters, etc.\n",
    "\n",
    "- Use the *test set* to get an idea on how well our best predictor is expected to perform on unseen data. This step should only be performed once, at the very end of the experiment: if we tweak our predictor based on its performance on the test set, we simply may find a variant that \"gets lucky\" on the test set, and overestimate its accuracy on truly unseen examples.\n",
    "\n",
    "- A common rule of thumb is to use 60% of our data for the training, 20% for validation, and 20% for testing. We could simply take the first 60% of our review data for training, but then we have to assume that the dataset has been \"mixed\" well in advance. We achieve a better **randomization** by using the hash we computed from the JSON string and checking its modulus 10.\n"
   ]
  },
  {
   "cell_type": "code",
   "execution_count": 5,
   "metadata": {},
   "outputs": [
    {
     "name": "stdout",
     "output_type": "stream",
     "text": [
      "We have 96638 training examples, 32252 validation examples, and 31902 test examples.\n"
     ]
    }
   ],
   "source": [
    "def partition_train_validation_test(data):\n",
    "    # 60% : modulus is 0, 1, 2, 3, 4, or 5\n",
    "    data_train = [item for item in data if item['hash'] % 10 <= 5]\n",
    "    # 20% : modulus is 6 or 7\n",
    "    data_valid = [item for item in data if item['hash'] % 10 in [6,7]] \n",
    "    # 20% : modulus is 8 or 9\n",
    "    data_test  = [item for item in data if item['hash'] % 10 in [8,9]] \n",
    "    return data_train, data_valid, data_test\n",
    "    \n",
    "baby_train, baby_valid, baby_test = partition_train_validation_test(baby)\n",
    "\n",
    "print(\"We have\", len(baby_train), \"training examples,\", len(baby_valid),\n",
    "      \"validation examples, and\", len(baby_test), \"test examples.\")"
   ]
  },
  {
   "cell_type": "markdown",
   "metadata": {},
   "source": [
    "\n",
    "**Prediction algorithms generally work with numbers instead of text**. Therefore we need to preprocess our text by extracting from it **numeric \"features\"** that we can afterwards feed into our predictor. \n",
    "\n",
    "For our simple baseline predictor, we will use only two features: the frequency of positive words in the review (\"good\", \"great\", \"like\") and the frequency of negative words in the review (\"bad\", \"horrible\", \"dislike\"). Let's call these two features **fpos** and **fneg**. \n",
    "\n",
    "Our hypothesis is that reviews with many positive words (high fpos) are likely to receive 4 or 5 stars, while reviews with many negative words (high fneg) will probably receive 1 or 2 stars. Since reviews differ in their length, it makes sense to express the frequency of positive and negative words as a fraction of the total number of words in the review. Therefore **fpos** and **fneg** will be numbers between 0 and 1.\n",
    "\n",
    "For example, assume the review text is *\"This is a good, great, fantastic, amazing, wonderful, super product!\"*. We count six positive words and zero negative words (out of ten words in total), so fpos == 0.6 (6/10) and fneg == 0.0 (0/10). \n",
    "On the other hand, the review \"This is a bad, atrocious, terrible, dreadful, awful, abysmal product!\" will have fpos == 0.0 (0/10) and fneg == 0.6 (6/10). \n",
    "\n",
    "Alternatively we could decide to discount all **stop words**: these are extremely common words such as \"this\", \"is\" or \"a\", which are required by the syntax of the English language but don't really carry semantic meaning. If we strip out these three words, we have fpos == 0.857 (6/7) in the first example, and fneg == 0.857 in the second example.\n",
    "\n",
    "Writing down all positive and negative words in the English language by hand would be a very long and tedious task. Thankfully we don't have to do this ourselves, since it was already done by Hu and Liu. The [Hu-Liu lexicon of positive and negative opinion words][1] is available as part of NLTK.\n",
    "\n",
    "\n",
    "[1]: https://www.cs.uic.edu/~liub/FBS/sentiment-analysis.html"
   ]
  },
  {
   "cell_type": "code",
   "execution_count": 6,
   "metadata": {},
   "outputs": [
    {
     "name": "stdout",
     "output_type": "stream",
     "text": [
      "Some positive words: affluent, impressiveness, unmatched, quicker, intriguing, enthralled, loved, astonish, useable, covenant\n",
      "Some negative words: shipwreck, haphazard, sloooooooooooooow, vengeance, discouragingly, ultimatums, fleeing, menial, partisans, procrastinate\n",
      "Words that appear in both sets: envious, enviously, enviousness\n"
     ]
    }
   ],
   "source": [
    "from nltk.corpus import opinion_lexicon\n",
    "import random\n",
    "\n",
    "positive_words = set(opinion_lexicon.positive())\n",
    "negative_words = set(opinion_lexicon.negative())\n",
    "\n",
    "random.seed(1234)\n",
    "print(\"Some positive words:\", \", \".join(random.sample(positive_words, 10)))\n",
    "print(\"Some negative words:\", \", \".join(random.sample(negative_words, 10)))\n",
    "\n",
    "intersection = positive_words & negative_words\n",
    "print(\"Words that appear in both sets: \" + \", \".join(intersection))"
   ]
  },
  {
   "cell_type": "markdown",
   "metadata": {},
   "source": [
    "\n",
    "While **sentiment labeling** of individual words can be subjective, most people would agree with the classification as positive or negative for these examples. Notice that the Hu-Liu lexicon contains different word forms: for example, it contains both adjectives (\"wholesome\") and adverbs (\"harshly\"), and verbs appear both in the base form (\"blurt\") and in inflected forms (\"picketing\"). It also contains common misspellings (\"flicering\" instead of \"flickering\"). \n",
    "\n",
    "This is why **we will take the words in the reviews as they are** (apart from minor preprocessing steps such as converting from upper-case to lower-case), and won't apply more sophisticated preprocessing techniques such as stemming.\n",
    "\n",
    "We can now **write a function that takes a review text and outputs the number of positive and negative words in the review as a fraction of the total number of words in the review (excluding stop words and punctuation)**. \n",
    "\n",
    "Note that we have to deal with the special case when the total number of words is zero, which happens if the review text is empty. Otherwise we'll end up dividing by zero, and you'll remember from high school that this is not allowed!\n"
   ]
  },
  {
   "cell_type": "code",
   "execution_count": 8,
   "metadata": {},
   "outputs": [
    {
     "name": "stdout",
     "output_type": "stream",
     "text": [
      "(0.8571428571428571, 0.0)\n",
      "(0.0, 0.8571428571428571)\n"
     ]
    }
   ],
   "source": [
    "from nltk.corpus import stopwords\n",
    "from nltk.tokenize import sent_tokenize, word_tokenize\n",
    "\n",
    "# English language stop words\n",
    "eng_stopwords = set(stopwords.words('english'))\n",
    "\n",
    "def my_tokenize(text):\n",
    "    \"\"\"\n",
    "    Split text into lower-case tokens, removing all-punctuation tokens and stopwords\n",
    "    \"\"\"\n",
    "    tokens = []\n",
    "    for sentence in sent_tokenize(text):\n",
    "        tokens.extend(x for x in word_tokenize(sentence.lower()) \n",
    "                      if x not in eng_stopwords and any(i.isalpha() for i in x))\n",
    "    return tokens\n",
    "\n",
    "def pos_neg_fraction(text):\n",
    "    \"\"\"\n",
    "    Return the fraction of positive and negative words in a text\n",
    "    \"\"\"\n",
    "    tokens = my_tokenize(text)\n",
    "    count_pos, count_neg = 0, 0\n",
    "    for t in tokens:\n",
    "        if t in positive_words:\n",
    "            count_pos += 1\n",
    "        if t in negative_words:\n",
    "            count_neg += 1\n",
    "    count_all = len(tokens)\n",
    "    if count_all != 0:\n",
    "        return count_pos/count_all, count_neg/count_all\n",
    "    else:\n",
    "        return 0., 0.\n",
    "    \n",
    "pos_example = 'This is a good, great, fantastic, amazing, wonderful, super product!!!'\n",
    "neg_example = 'This is a bad, atrocious, terrible, dreadful, awful, abysmal product!!!'\n",
    "\n",
    "print(pos_neg_fraction(pos_example))\n",
    "print(pos_neg_fraction(neg_example))"
   ]
  },
  {
   "cell_type": "markdown",
   "metadata": {},
   "source": [
    "\n",
    "For our two example sentences, this seems to do what we want. Obviously, real reviews usually don't have such an extreme concentration of positive or negative words. Let's find the reviews in our real-world datasets with the highest fraction of positive and negative words, respectively. \n",
    "\n",
    "When exploring the data, it is generally a good idea to **restrict ourselves to the training data only**, to avoid \"peeking ahead\" and designing our algorithm so that it works well for the test examples we see.\n",
    "\n",
    "For the subsequent analysis, we convert our training data set into a matrix `X_train` with two columns and as many rows as there are examples in the data set. The **first column** contains the **fraction of positive words**, while the **second column** contains the **fraction of negative words** for each example. \n",
    "\n",
    "We'll use `numpy.array`, which is the standard way to represent matrices in Python. It provides useful helper functions, such as for finding the maximum in each column. Note that the following cell may take a few minutes to run!\n"
   ]
  },
  {
   "cell_type": "code",
   "execution_count": 9,
   "metadata": {},
   "outputs": [
    {
     "name": "stdout",
     "output_type": "stream",
     "text": [
      "We found a fraction of 100.000000 % positive words for example 5915\n",
      "{'reviewerID': 'AKU0ZZ3IEZW42', 'asin': 'B0001BUKA8', 'helpful': [0, 0], 'reviewText': 'useful peace', 'overall': 5.0, 'summary': 'Five Stars', 'unixReviewTime': 1405382400, 'reviewTime': '07 15, 2014', 'hash': -1114530380}\n",
      "\n",
      "We found a fraction of 100.000000 % negative words for example 15794\n",
      "{'reviewerID': 'A2416HDN71TOGG', 'asin': 'B000HZEQSU', 'reviewerName': 'Elizabeth Evans', 'helpful': [0, 0], 'reviewText': 'uncomfortable', 'overall': 1.0, 'summary': 'One Star', 'unixReviewTime': 1404691200, 'reviewTime': '07 7, 2014', 'hash': 1727535344}\n"
     ]
    }
   ],
   "source": [
    "import numpy\n",
    "\n",
    "def dataset_to_matrix(data):\n",
    "    \"\"\"Extract our feature matrix from the dataset\"\"\"\n",
    "    return numpy.array([list(pos_neg_fraction(item['reviewText'])) for item in data])\n",
    "\n",
    "X_train = dataset_to_matrix(baby_train)\n",
    "most_pos, most_neg = numpy.argmax(X_train, axis=0)\n",
    "\n",
    "# print the example with the highest fraction of positive words:\n",
    "print(\"We found a fraction of %f %% positive words for example %d\" % \n",
    "      (100. * X_train[most_pos, 0], most_pos))\n",
    "print(baby_train[most_pos])\n",
    "\n",
    "print()\n",
    "\n",
    "# print the example with the highest fraction of negative words:\n",
    "print(\"We found a fraction of %f %% negative words for example %d\" %\n",
    "      (100. * X_train[most_neg, 1], most_neg))\n",
    "print(baby_train[most_neg])"
   ]
  },
  {
   "cell_type": "markdown",
   "metadata": {},
   "source": [
    "We see that there actually is an example with 100% positive words (excluding stopwords), which received 5 stars, and also an example with 100% negative words, which received 1 star. Our idea of counting positive and negative words seems promising! We are now almost ready to train our first predictor. The only thing left to do is to collect the numbers we want to predict (the star ratings which are called `overall` in the JSON data), and put them into another NumPy array. We'll call this one **Y_train**.\n",
    "\n",
    "In machine learning parlance, the matrix **X_train** is called the **feature matrix** (what we already know) and the matrix **Y_train** is called the **target vector** (what we want to predict based on the features). You may remember from high-school algebra that vectors are one-dimensional while matrices are two-dimensional. This is because for every example we may have multiple features, but usually a single target. In this case we have two features (fractions of positive and negative examples), so our feature matrix has two columns.\n",
    "\n",
    "Generally, most machine learning algorithms prefer dealing with numbers (matrices) - so we have to find a way to extract numerical information from non-numerical data such as text. This is exactly what we did when counting the fraction of positive and negative words."
   ]
  },
  {
   "cell_type": "code",
   "execution_count": 11,
   "metadata": {},
   "outputs": [
    {
     "name": "stdout",
     "output_type": "stream",
     "text": [
      "Our feature matrix is two-dimensional and has shape (96638, 2)\n",
      "\n",
      "Our target vector is one-dimensional and has shape (96638,)\n"
     ]
    }
   ],
   "source": [
    "def dataset_to_targets(data):\n",
    "    \"\"\"Extract our target array from the dataset\"\"\"\n",
    "    return numpy.array([item['overall'] for item in data])\n",
    "\n",
    "Y_train = dataset_to_targets(baby_train)\n",
    "print(\"Our feature matrix is two-dimensional and has shape\", X_train.shape)\n",
    "print()\n",
    "print(\"Our target vector is one-dimensional and has shape\", Y_train.shape)"
   ]
  },
  {
   "cell_type": "markdown",
   "metadata": {},
   "source": [
    "\n",
    "In a real machine learning project, **now would be a good time to spend more time exploring and visualizing the data**. For example, it is a good idea to get a feeling on **how the features and targets are distributed**, as this determines which techniques are a good fit for the problem. The Python community has created a lot of great tools and libraries for exploratory data analysis - unfortunately we don't have the time to discuss them in detail right now.\n",
    "\n",
    "However, at least we can give you some pointers if you want to study this topic for yourself. We recommend that anyone interested in becoming a data scientist should **have a look at the Pandas library**. \n",
    "\n",
    "For example, if you want to visualize how many 1-star, 2-star etc. ratings there are in the dataset, you can do it like this:\n"
   ]
  },
  {
   "cell_type": "code",
   "execution_count": 12,
   "metadata": {},
   "outputs": [
    {
     "data": {
      "text/plain": [
       "<matplotlib.axes._subplots.AxesSubplot at 0x9872f30>"
      ]
     },
     "execution_count": 12,
     "metadata": {},
     "output_type": "execute_result"
    },
    {
     "data": {
      "image/png": "[encoded data removed]",
      "text/plain": [
       "<Figure size 432x288 with 1 Axes>"
      ]
     },
     "metadata": {},
     "output_type": "display_data"
    }
   ],
   "source": [
    "import pandas\n",
    "\n",
    "# visualize how many 1-star, 2-star etc. ratings there are in the dataset\n",
    "pandas.Series(Y_train).value_counts().plot.bar()"
   ]
  },
  {
   "cell_type": "markdown",
   "metadata": {},
   "source": [
    "\n",
    "We see that 5-star review are by far the most frequent, and very few people leave a 1-star review. \n",
    "\n",
    "We can also **visualize the distribution of our features**. We see that most reviews don't have negative words at all (sharp peak around 0), while reviews without any positive words are much rarer. The typical review seems to contain around 10% positive words, and around 5% negative words:\n"
   ]
  },
  {
   "cell_type": "code",
   "execution_count": 13,
   "metadata": {},
   "outputs": [
    {
     "data": {
      "text/plain": [
       "<matplotlib.axes._subplots.AxesSubplot at 0x1f6b0510>"
      ]
     },
     "execution_count": 13,
     "metadata": {},
     "output_type": "execute_result"
    },
    {
     "data": {
      "image/png": "[encoded data removed]",
      "text/plain": [
       "<Figure size 432x288 with 1 Axes>"
      ]
     },
     "metadata": {},
     "output_type": "display_data"
    }
   ],
   "source": [
    "df = pandas.DataFrame(data=X_train, columns = ['fpos', 'fneg'])\n",
    "\n",
    "# visualize the distribution of our features\n",
    "df.plot.kde(xlim=(-0.5, 0.5))"
   ]
  },
  {
   "cell_type": "markdown",
   "metadata": {},
   "source": [
    "These two examples are just meant to whet your appetite. To find out more, have a look at the [Pandas documentation][1].\n",
    "\n",
    "\n",
    "### Predictor\n",
    "\n",
    "**We are now ready to train our first predictor**! Generally it's a good idea to keep it simple at the beginning, so we'll start with a method you will probably remember from high school: **linear regression** (also known as **least-squares regression**). \n",
    "\n",
    "If you haven't studied the mathematics before or would like to refresh your memory, there are many good materials on the Internet, e.g. on [Khanacademy][2]. Otherwise you can also use the Python libraries as a \"black box\" - this will be sufficient if you don't plan on working with data a lot.\n",
    "\n",
    "Later this week we'll learn how to use **Google's Tensorflow** library to train a linear regression model: however, that will be mostly for pedagogical purposes, and would be a bit of an overkill in practice. \n",
    "\n",
    "The [**Scikit-learn** library][3] has very good implementations of classical predictors such as linear regression.\n",
    "\n",
    "[1]: https://pandas.pydata.org/pandas-docs/stable/tutorials.html\n",
    "[2]: https://www.khanacademy.org/math/statistics-probability/describing-relationships-quantitative-data\n",
    "[3]: http://scikit-learn.org/stable/"
   ]
  },
  {
   "cell_type": "code",
   "execution_count": 14,
   "metadata": {},
   "outputs": [
    {
     "name": "stdout",
     "output_type": "stream",
     "text": [
      "The coefficient for the fpos variable is 3.2125333067621376\n",
      "The coefficient for the fneg variable is -5.588852029244575\n",
      "The intercept is 4.010144435455502\n"
     ]
    }
   ],
   "source": [
    "from sklearn.linear_model import LinearRegression\n",
    "\n",
    "lreg = LinearRegression().fit(X_train, Y_train)\n",
    "\n",
    "print(\"The coefficient for the fpos variable is\", lreg.coef_[0])\n",
    "print(\"The coefficient for the fneg variable is\", lreg.coef_[1])\n",
    "print(\"The intercept is\", lreg.intercept_)"
   ]
  },
  {
   "cell_type": "markdown",
   "metadata": {},
   "source": [
    "Just like this, we have trained our first machine learning model! Since linear regression is a very simple predictor, we can actually understand its inner workings quite well. The **intercept** is the star rating we would expect for a review that contains neither positive nor negative words (fpos==0 and fneg==0): according to the model, such a review should get about 4 stars on average.\n",
    "\n",
    "If the review contains 20% positive words (fpos==0.2) but still no negative words (fneg==0), we would expect the following rating:"
   ]
  },
  {
   "cell_type": "code",
   "execution_count": 16,
   "metadata": {},
   "outputs": [
    {
     "name": "stdout",
     "output_type": "stream",
     "text": [
      "The expected rating is 4.652651 stars\n",
      "This is the same as 4.652651 stars\n"
     ]
    }
   ],
   "source": [
    "# review containing 20% positive words and no negative words\n",
    "features = [[0.2, 0]]\n",
    "# then, the expected (predicted) rating would be:\n",
    "expected_rating_A = lreg.predict(features)[0]\n",
    "print(\"The expected rating is %f stars\" % expected_rating_A)\n",
    "\n",
    "# we can also compute this explicitly:\n",
    "expected_rating_B = lreg.intercept_ + 0.2 * lreg.coef_[0] + 0 * lreg.coef_[1]\n",
    "print(\"This is the same as %f stars\" % expected_rating_B)"
   ]
  },
  {
   "cell_type": "markdown",
   "metadata": {},
   "source": [
    "However, if the review contains no positive words (fpos==0) but 20% negative words (fneg==0.2), we expect the following rating:"
   ]
  },
  {
   "cell_type": "code",
   "execution_count": 18,
   "metadata": {},
   "outputs": [
    {
     "name": "stdout",
     "output_type": "stream",
     "text": [
      "The expected rating is 2.892374 stars\n",
      "This is the same as 2.892374 stars\n"
     ]
    }
   ],
   "source": [
    "# review containing 20% negative words and no positive words\n",
    "features = [[0, 0.2]]\n",
    "# then, the expected (preficted) rating would be:\n",
    "expected_rating_A = lreg.predict(features)[0]\n",
    "print(\"The expected rating is %f stars\" % expected_rating_A)\n",
    "\n",
    "# we can also compute this explicitly:\n",
    "expected_rating_B = lreg.intercept_ + 0 * lreg.coef_[0] + 0.2 * lreg.coef_[1]\n",
    "print(\"This is the same as %f stars\" % expected_rating_B)"
   ]
  },
  {
   "cell_type": "markdown",
   "metadata": {},
   "source": [
    "We see that **the more positive words we have in our review, the higher the expected star rating** (the coefficient for the first variable is positive). \n",
    "\n",
    "**The more negative words there are in the review, however, the lower is the expected star rating** (the coefficient for the second variable is negative). This is what we would intuitively expect.\n",
    "\n",
    "Remember our two examples from earlier, which contained 100% positive words (\"so cute\") or 100% negative words (\"uncomfortable\"). For these two extreme examples, we get a **very odd prediction**:\n",
    "    \n",
    "    - Calculate the prediction for a 100% positive, and a 100% negative review.\n",
    "    - Repeat this same process for \"Apps for Android\" dataset."
   ]
  },
  {
   "cell_type": "code",
   "execution_count": 21,
   "metadata": {},
   "outputs": [
    {
     "name": "stdout",
     "output_type": "stream",
     "text": [
      "The expected rating for a 100 percent positive words review is 7.222678 stars\n",
      "The expected rating for a 100 percent negative words review is -1.578708 stars\n"
     ]
    }
   ],
   "source": [
    "# review containing 100% positive words and no negative words\n",
    "features = [[1.0, 0]]\n",
    "# then, the expected (preficted) rating would be:\n",
    "expected_rating_A = lreg.predict(features)[0]\n",
    "print(\"The expected rating for a 100 percent positive words review is %f stars\" % expected_rating_A)\n",
    "\n",
    "# review containing 100% positive words and no negative words\n",
    "features = [[0, 1.0]]\n",
    "# then, the expected (preficted) rating would be:\n",
    "expected_rating_B = lreg.predict(features)[0]\n",
    "print(\"The expected rating for a 100 percent negative words review is %f stars\" % expected_rating_B)"
   ]
  },
  {
   "cell_type": "markdown",
   "metadata": {},
   "source": [
    "\n",
    "Since we haven't told our predictor that all ratings must lie between 1 and 5 stars, it became a bit **overenthusiastic** in its predictions for these extreme examples. We can simply **cut off** these unrealistic results: if the predicted star rating is above 5 stars, we set it to 5 stars, and if it is below 1 star, we set it to 1 star. Now we have a practical prediction algorithm, which we can apply to our training dataset:\n"
   ]
  },
  {
   "cell_type": "code",
   "execution_count": 22,
   "metadata": {},
   "outputs": [],
   "source": [
    "def predict_lreg(features):\n",
    "    expected_rating = lreg.predict(features)\n",
    "    expected_rating[expected_rating > 5.0] = 5.0\n",
    "    expected_rating[expected_rating < 1.0] = 1.0\n",
    "    return expected_rating\n",
    "\n",
    "pred_train = predict_lreg(X_train)"
   ]
  },
  {
   "cell_type": "markdown",
   "metadata": {},
   "source": [
    "Let's look at some random examples first to get a feeling how well this works:"
   ]
  },
  {
   "cell_type": "code",
   "execution_count": 23,
   "metadata": {},
   "outputs": [
    {
     "name": "stdout",
     "output_type": "stream",
     "text": [
      "Training example number 0\n",
      "True rating = 5.000000 stars, expected rating = 4.367093 stars\n",
      "Features = 0.111111 / 0.000000\n",
      "Review text = Perfect for new parents. We were able to keep track of baby's feeding, sleep and diaper change schedule for the first two and a half months of her life. Made life easier when the doctor would ask questions about habits because we had it all right there!\n",
      "\n",
      "Training example number 10000\n",
      "True rating = 5.000000 stars, expected rating = 4.371310 stars\n",
      "Features = 0.172414 / 0.034483\n",
      "Review text = I really love all products from JJ Cole and this particular one is just as great as all of their other products.  The only thing to note is that the color was not pure white as it looks in the photo.  It was a slight grayish/purplish hue, which in my case was actually perfect since I was a little hesitant on having a bright white blanket in the stroller.\n",
      "\n",
      "Training example number 20000\n",
      "True rating = 5.000000 stars, expected rating = 4.060101 stars\n",
      "Features = 0.074324 / 0.033784\n",
      "Review text = For the reviewers who think this is difficult to assemble and pack back in the bag...you've obviously never owned a Graco! lol I bought this on clearance (it was a re-packaged item) at another store and it was missing the manual so I had to figure out how to assemble it on my own. It took me about 5 minutes to get it all together and the same amount of time to take it apart. Unfortunately whoever had returned it was a smoker and they tried to cover the stench with fabreze...not pretty, so I had to return it to the store but I'll definitely be buying another one (brand new this time). I'm also amazed at people who complain about not being able to get it though a doorway...seriously?? I'm pretty sure NO playards can fit through a standard doorway. If that's what you need/want then go with a small bassinet with wheels rather than a playard/bassinet combo.Things I love about it:-The mattress pad is machine washable!!! We had to throw out our Graco pack n play because my son threw up all over the mat. We hosed it down, tried to clean it, and it molded...yuck.-The play gym. Play gyms cost between $30-70 so the fact it's thrown in with this playpen is pretty cool. I love that I can use it on the floor or in the playpen.-The changing table. It can be flipped down to the side when not in use and even zipped off.-It's much more study than all the other playards out there and is obviously better in quality as well.Downside:-it's too heavy for me to lift as a pregnant lady but easy for me to wheel around. Fortunately, when the time comes for me to lift it in and out of the car for trips, I'll no longer be pregnant...so this isn't really even a downside.\n",
      "\n",
      "Training example number 30000\n",
      "True rating = 1.000000 stars, expected rating = 3.212234 stars\n",
      "Features = 0.026316 / 0.157895\n",
      "Review text = This is the WORST babyproofing product we have tried. I wish I would have read the reviews before buying but I got these at a big box store. Once the lock was on I couldn't get it off. My fingers were sore from trying to get it to unlock. Finally, I had to unscrew the cabinet knob (which was a feat in itself!) to get it off. These are awful. Listen to the other negative reviews and save yourself some frustration and hassle and buy something else.\n",
      "\n",
      "Training example number 50000\n",
      "True rating = 5.000000 stars, expected rating = 4.411711 stars\n",
      "Features = 0.125000 / 0.000000\n",
      "Review text = This is by far the one of the best items I received at my baby shower. I have used this since day one and still use it now that my baby is three months old. It's a perfect little nest for baby to rest in, and it is also great to snap shots of your little one. I would recommend this to all parents.\n",
      "\n"
     ]
    }
   ],
   "source": [
    "def analyze_training_example(i):\n",
    "    print(\"Training example number\", i)\n",
    "    print(\"True rating = %f stars, expected rating = %f stars\" % (Y_train[i], pred_train[i]))\n",
    "    print(\"Features = %f / %f\" % (X_train[i,0], X_train[i,1]))\n",
    "    print(\"Review text = %s\" % baby_train[i]['reviewText'])\n",
    "    print()\n",
    "\n",
    "for i in [0, 10000, 20000, 30000, 50000]:\n",
    "    analyze_training_example(i)"
   ]
  },
  {
   "cell_type": "markdown",
   "metadata": {},
   "source": [
    "\n",
    "Not terrible, but far **from perfect either**. These few examples already show some of the limitations of our approach. For example, example 50000 is a 1-star review which contains only a single negative word (\"hangs\"), so the predictor overestimates the rating.\n",
    "\n",
    "Example 20000 likewise overestimates the rating because it counts words like \"top\" and \"fabulous\", which don't refer to the product itself in this example.\n",
    "\n",
    "Example 30000 is not too far off, but it underestimates the rating because it counts \"regret\" as a negative word and overlooks the preceding \"not\". Sophisticated sentiment analyzers need to account for negation: for example, \"not bad\" should be treated differently from \"bad\". Intensifiers should also be accounted for: in example 10000, \"very disappointed\" is stronger than \"disappointed\", but our predictor doesn't know this.\n",
    "\n",
    "While looking at individual examples is important and instructive, we need a systematic way to measure the prediction quality across all examples. **Scikit-learn provides different evaluation metrics**. The conceptually easiest choice is the **mean absolute error**, which counts by how many stars our predictions are off on average (in either direction).\n",
    "\n",
    "For example, assume we have three examples with true star ratings of 1, 4, 5, and predicted star ratings of 5, 4, 3. Then the first example is off by 4 stars, the second example by 0 stars (predicted and true rating match exactly), and the third example is off by 2 stars. The mean absolute error is therefore (4 + 0 + 2) / 3 = 2.\n"
   ]
  },
  {
   "cell_type": "code",
   "execution_count": 24,
   "metadata": {},
   "outputs": [
    {
     "name": "stdout",
     "output_type": "stream",
     "text": [
      "The mean absolute error on the training data is 0.830273 stars\n"
     ]
    }
   ],
   "source": [
    "from sklearn.metrics import mean_absolute_error\n",
    "\n",
    "mae_train = mean_absolute_error(pred_train, Y_train)\n",
    "print(\"The mean absolute error on the training data is %f stars\" % mae_train)"
   ]
  },
  {
   "cell_type": "markdown",
   "metadata": {},
   "source": [
    "\n",
    "So it turns out that **we actually aren't that far off, although the accuracy on the validation set is a bit worse than on the training set (which should be expected)**. \n",
    "\n",
    "Once we move to more complex algorithms, however, we'll have to be very careful not to draw premature conclusions from the training set performance: **an algorithm may easily achieve perfect accuracy on the training set, and still completely fail on unseen examples**! (Like a student with a photographic memory who can reproduce all the answers to all the math problems she has seen before, but hasn't understood the underlying general theory: so she cannot compute any answer if we change the numbers in the problem slightly).\n",
    "\n",
    "**We don't look at the accuracy on the test set yet, because this is the very last step we should do once we are convinced we have found the best predictor we can think of and want to run one final test**. For now, we have established that linear regression with the fraction of positive and negative words as features seems to be a reasonable baseline. Can we do better? Stay tuned!\n"
   ]
  },
  {
   "cell_type": "markdown",
   "metadata": {},
   "source": [
    "### Homework\n",
    "\n",
    "1. Calculate the prediction for 100% positive, and 100% negative review (before the cutoff) for \"Apps for Android\" dataset.\n",
    "2. Build a better sentiment analyzer and comment both your code and your data exploration."
   ]
  }
 ],
 "metadata": {
  "kernelspec": {
   "display_name": "Python 3",
   "language": "python",
   "name": "python3"
  },
  "language_info": {
   "codemirror_mode": {
    "name": "ipython",
    "version": 3
   },
   "file_extension": ".py",
   "mimetype": "text/x-python",
   "name": "python",
   "nbconvert_exporter": "python",
   "pygments_lexer": "ipython3",
   "version": "3.7.0"
  }
 },
 "nbformat": 4,
 "nbformat_minor": 1
}
