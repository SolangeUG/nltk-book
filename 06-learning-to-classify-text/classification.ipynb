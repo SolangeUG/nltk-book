{
 "cells": [
  {
   "cell_type": "markdown",
   "metadata": {},
   "source": [
    "## Classification versus Regression\n",
    "\n",
    "On day 1, we have tried to forecast a star rating as a number on a continuous scale: star ratings range from 1 to 5, but the way we trained our linear regression model, it sometimes returned a fractional prediction such as 4.37 stars. In general, prediction algorithms that output a number on a **continuous scale** are called **regression algorithms**. Linear regression is the most famous member of this family.\n",
    "\n",
    "Sometimes all we really need to know is a **binary answer** to a question: Is a review bad or good? Is a user's comment abusive or not? Does a marketing email convert to a sale or not? Prediction algorithms that output either \"true\" or \"false\" (instead of a number) are called **classification algorithms**. While classification and regression are similar in many respects, there are also a couple of important differences: both regarding the algorithms we can use and how we evaluate them.\n",
    "\n",
    "For example, assume that the only reviews we are really interested in are those with 1, 2 or 3 stars. Maybe we want to flag dissatisfied customers automatically so that we can review what went wrong and reach out to them. If we don't have the star ratings available for all customers, we want to be able to classify them as either satisfied or dissatisfied based on the textual content of their review alone. Let's introduce a variable ``D_train`` that is true if the customer is dissatisfied (1, 2 or 3 stars), and false if the customer is satisfied (4 stars or better):\n"
   ]
  },
  {
   "cell_type": "code",
   "execution_count": 4,
   "metadata": {},
   "outputs": [
    {
     "name": "stdout",
     "output_type": "stream",
     "text": [
      "Dataset Baby has already been downloaded to ./data/\n"
     ]
    }
   ],
   "source": [
    "%matplotlib inline\n",
    "import urllib.request, os, gzip\n",
    "\n",
    "datadir = './data/'\n",
    "\n",
    "def download_data(dataset_name, datadir):\n",
    "    filename = 'reviews_%s_5.json' % dataset_name\n",
    "    filepath = os.path.join(datadir, filename)\n",
    "    if os.path.exists(filepath):\n",
    "        print(\"Dataset %s has already been downloaded to %s\" % (dataset_name, datadir))\n",
    "    else:\n",
    "        url = 'http://snap.stanford.edu/data/amazon/productGraph/categoryFiles/%s.gz' % filename\n",
    "        urllib.request.urlretrieve(url, filepath + \".gz\")\n",
    "        with gzip.open(filepath + \".gz\", 'rb') as fin:\n",
    "            with open(filepath, 'wb') as fout:\n",
    "                fout.write(fin.read())\n",
    "        print(\"Downloaded dataset %s and saved it to %s\" % (dataset_name, datadir))\n",
    "\n",
    "dataset = \"Baby\"\n",
    "download_data(dataset, datadir)"
   ]
  },
  {
   "cell_type": "code",
   "execution_count": 5,
   "metadata": {},
   "outputs": [
    {
     "name": "stdout",
     "output_type": "stream",
     "text": [
      "Loaded 160792 data for dataset Baby\n"
     ]
    }
   ],
   "source": [
    "import json\n",
    "\n",
    "def load_data(dataset_name, datadir):\n",
    "    filepath = os.path.join(datadir, 'reviews_%s_5.json' % dataset_name)\n",
    "    if not os.path.exists(filepath):\n",
    "        download_data(dataset_name, datadir)\n",
    "    data = []\n",
    "    with open(filepath, 'r') as f:\n",
    "        for line in f:                            # read file line by line\n",
    "            item_hash = hash(line)                # we will use this later for partitioning our data \n",
    "            item = json.loads(line)               # convert JSON string to Python dict\n",
    "            item['hash'] = item_hash              # add hash for identification purposes\n",
    "            data.append(item)\n",
    "    print(\"Loaded %d data for dataset %s\" % (len(data), dataset_name))\n",
    "    return data\n",
    "\n",
    "# load the data...\n",
    "baby = load_data(dataset, datadir)"
   ]
  },
  {
   "cell_type": "code",
   "execution_count": 6,
   "metadata": {},
   "outputs": [
    {
     "name": "stdout",
     "output_type": "stream",
     "text": [
      "We have 96705 training examples, 32095 validation examples, and 31992 test examples.\n"
     ]
    }
   ],
   "source": [
    "def partition_train_validation_test(data):\n",
    "    # 60% : modulus is 0, 1, 2, 3, 4, or 5\n",
    "    data_train = [item for item in data if item['hash'] % 10 <= 5]\n",
    "    # 20% : modulus is 6 or 7\n",
    "    data_valid = [item for item in data if item['hash'] % 10 in [6,7]] \n",
    "    # 20% : modulus is 8 or 9\n",
    "    data_test  = [item for item in data if item['hash'] % 10 in [8,9]] \n",
    "    return data_train, data_valid, data_test\n",
    "    \n",
    "baby_train, baby_valid, baby_test = partition_train_validation_test(baby)\n",
    "\n",
    "print(\"We have\", len(baby_train), \"training examples,\", len(baby_valid),\n",
    "      \"validation examples, and\", len(baby_test), \"test examples.\")"
   ]
  },
  {
   "cell_type": "code",
   "execution_count": 7,
   "metadata": {},
   "outputs": [
    {
     "name": "stdout",
     "output_type": "stream",
     "text": [
      "Some positive words: revolutionary, sincere, spontaneous, eyecatching, motivated, lucrative, fabulously, capable, subsidizes, pleasurably\n",
      "Some negative words: wariness, shrill, set-up, imminently, displeasing, hysterically, loopholes, inflationary, exclusion, dungeons\n",
      "Words that appear in both sets: enviously, enviousness, envious\n"
     ]
    }
   ],
   "source": [
    "from nltk.corpus import opinion_lexicon\n",
    "import random\n",
    "\n",
    "positive_words = set(opinion_lexicon.positive())\n",
    "negative_words = set(opinion_lexicon.negative())\n",
    "\n",
    "random.seed(1234)\n",
    "print(\"Some positive words:\", \", \".join(random.sample(positive_words, 10)))\n",
    "print(\"Some negative words:\", \", \".join(random.sample(negative_words, 10)))\n",
    "\n",
    "intersection = positive_words & negative_words\n",
    "print(\"Words that appear in both sets: \" + \", \".join(intersection))"
   ]
  },
  {
   "cell_type": "code",
   "execution_count": 8,
   "metadata": {},
   "outputs": [],
   "source": [
    "from nltk.corpus import stopwords\n",
    "from nltk.tokenize import sent_tokenize, word_tokenize\n",
    "\n",
    "# English language stop words\n",
    "eng_stopwords = set(stopwords.words('english'))\n",
    "\n",
    "def my_tokenize(text):\n",
    "    \"\"\"\n",
    "    Split text into lower-case tokens, removing all-punctuation tokens and stopwords\n",
    "    \"\"\"\n",
    "    tokens = []\n",
    "    for sentence in sent_tokenize(text):\n",
    "        tokens.extend(x for x in word_tokenize(sentence.lower()) \n",
    "                      if x not in eng_stopwords and any(i.isalpha() for i in x))\n",
    "    return tokens\n",
    "\n",
    "def pos_neg_fraction(text):\n",
    "    \"\"\"\n",
    "    Return the fraction of positive and negative words in a text\n",
    "    \"\"\"\n",
    "    tokens = my_tokenize(text)\n",
    "    count_pos, count_neg = 0, 0\n",
    "    for t in tokens:\n",
    "        if t in positive_words:\n",
    "            count_pos += 1\n",
    "        if t in negative_words:\n",
    "            count_neg += 1\n",
    "    count_all = len(tokens)\n",
    "    if count_all != 0:\n",
    "        return count_pos/count_all, count_neg/count_all\n",
    "    else:\n",
    "        return 0., 0."
   ]
  },
  {
   "cell_type": "code",
   "execution_count": 9,
   "metadata": {},
   "outputs": [],
   "source": [
    "import numpy\n",
    "\n",
    "def dataset_to_matrix(data):\n",
    "    \"\"\"Extract our feature matrix from the dataset\"\"\"\n",
    "    return numpy.array([list(pos_neg_fraction(item['reviewText'])) for item in data])\n",
    "\n",
    "X_train = dataset_to_matrix(baby_train)"
   ]
  },
  {
   "cell_type": "code",
   "execution_count": 10,
   "metadata": {},
   "outputs": [],
   "source": [
    "def dataset_to_targets(data):\n",
    "    \"\"\"Extract our target array from the dataset\"\"\"\n",
    "    return numpy.array([item['overall'] for item in data])\n",
    "\n",
    "Y_train = dataset_to_targets(baby_train)"
   ]
  },
  {
   "cell_type": "code",
   "execution_count": 11,
   "metadata": {},
   "outputs": [
    {
     "name": "stdout",
     "output_type": "stream",
     "text": [
      "The training data contains 21.440463 % dissatisfied customers\n",
      "Are the first ten customers dissatisfied? [False False  True False False  True  True False False False]\n"
     ]
    }
   ],
   "source": [
    "def discretize_targets(Y):\n",
    "    \"\"\"\n",
    "    Return true for each rating that is less or equal to 3.\n",
    "    \"\"\"\n",
    "    return Y <= 3.0\n",
    "\n",
    "D_train = discretize_targets(Y_train)\n",
    "print(\"The training data contains %f %% dissatisfied customers\" % (100. * D_train.mean()))\n",
    "print(\"Are the first ten customers dissatisfied?\", D_train[:10])"
   ]
  },
  {
   "cell_type": "markdown",
   "metadata": {},
   "source": [
    "\n",
    "A **simple classifier would be an algorithm that takes a review text and produces either `True` or `False` as an output**. While this is often already useful, it doesn't tell us how confident the classifier is about its predictions. Is the algorithm absolutely sure that the review is bad, or is it a 50-50 decision? We may want to handle these cases differently, since some of the algorithm's errors can be more dangerous than others. \n",
    "\n",
    "In general, a classification algorithm can make two different kinds of errors: **false positives** mean that we wrongly flag a satisfied review (``D == false``) as dissatisfied, while **false negatives** mean that we wrongly flag a dissatisfied review (``D == true``) as satisfied. Often we will use our classification algorithm only as a screening filter to flag candidates for manual review. A false positive means that the reviewer has to read a lot of good reviews and confirm that there isn't actually a need to take action.\n"
   ]
  },
  {
   "cell_type": "code",
   "execution_count": 13,
   "metadata": {},
   "outputs": [
    {
     "data": {
      "text/plain": [
       "<matplotlib.axes._subplots.AxesSubplot at 0x1cda51d0>"
      ]
     },
     "execution_count": 13,
     "metadata": {},
     "output_type": "execute_result"
    },
    {
     "data": {
      "image/png": "[encoded data removed]",
      "text/plain": [
       "<Figure size 432x288 with 1 Axes>"
      ]
     },
     "metadata": {},
     "output_type": "display_data"
    }
   ],
   "source": [
    "import pandas\n",
    "\n",
    "points = numpy.linspace(-6.0, 6.0)\n",
    "logistic_function = pandas.Series(1/(numpy.exp(-points) + 1), index=points)\n",
    "logistic_function.plot()"
   ]
  },
  {
   "cell_type": "code",
   "execution_count": 14,
   "metadata": {},
   "outputs": [
    {
     "name": "stdout",
     "output_type": "stream",
     "text": [
      "Training example number 15784\n",
      "True rating = 1.000000 stars\n",
      "Expected to be dissatisfied: True\n",
      "Expected probability of being dissatisfied : 0.999882\n",
      "Features = 0.000000 / 1.000000\n",
      "Review text = uncomfortable\n"
     ]
    }
   ],
   "source": [
    "from sklearn.linear_model import LogisticRegression\n",
    "\n",
    "logreg = LogisticRegression().fit(X_train, D_train)\n",
    "\n",
    "# The predict_proba() method produces a matrix with two columns:\n",
    "# - the first column contains the probability for the label being \"false\" (satisfied customer)\n",
    "# - the second column contains the probability for the label being \"true\" (dissatisfied customer)\n",
    "# - the sum of both columns is 1.\n",
    "\n",
    "# We select:\n",
    "# - the second column with [:,1]\n",
    "# - the first column with [:,0]\n",
    "# - the second row with [1,:], etc.\n",
    "\n",
    "prob2_train = logreg.predict_proba(X_train)[:,1]\n",
    "pred2_train = prob2_train > 0.5\n",
    "max_prob2 = numpy.argmax(prob2_train)\n",
    "min_prob2 = numpy.argmin(prob2_train)\n",
    "\n",
    "def analyze_training_example_2(i):\n",
    "    print(\"Training example number\", i)\n",
    "    print(\"True rating = %f stars\" % Y_train[i])\n",
    "    print(\"Expected to be dissatisfied:\", pred2_train[i])\n",
    "    print(\"Expected probability of being dissatisfied : %f\" % prob2_train[i])\n",
    "    print(\"Features = %f / %f\" % (X_train[i,0], X_train[i,1]))\n",
    "    print(\"Review text = %s\" % baby_train[i]['reviewText'])\n",
    "    \n",
    "analyze_training_example_2(max_prob2)"
   ]
  },
  {
   "cell_type": "code",
   "execution_count": 15,
   "metadata": {},
   "outputs": [
    {
     "name": "stdout",
     "output_type": "stream",
     "text": [
      "Training example number 10476\n",
      "True rating = 5.000000 stars\n",
      "Expected to be dissatisfied: False\n",
      "Expected probability of being dissatisfied : 0.000039\n",
      "Features = 1.000000 / 0.000000\n",
      "Review text = work perfect\n"
     ]
    }
   ],
   "source": [
    "analyze_training_example_2(min_prob2)"
   ]
  },
  {
   "cell_type": "markdown",
   "metadata": {},
   "source": [
    "\n",
    "### Intermediate Homework\n",
    "\n",
    "Change the treshold from 0.5 to 0.2, and rerun the code:\n",
    "- Give a commentary in plain English about how that changed [precision and recall][1]. \n",
    "- What does that mean? What is now included that wasn't before? \n",
    "- What part of it is good? What is bad from our Task perspective. \n",
    "\n",
    "Remember: our task was to identify **Dissatisfied** reviews.\n",
    "\n",
    "[1]: https://en.wikipedia.org/wiki/Precision_and_recall"
   ]
  },
  {
   "cell_type": "code",
   "execution_count": 17,
   "metadata": {},
   "outputs": [
    {
     "name": "stdout",
     "output_type": "stream",
     "text": [
      "For the default threshold (0.5) we get precision = 0.602075 and recall = 0.095158\n"
     ]
    }
   ],
   "source": [
    "from sklearn.metrics import precision_score, recall_score\n",
    "\n",
    "precision2 = precision_score(D_train, pred2_train)\n",
    "recall2 = recall_score(D_train, pred2_train)\n",
    "\n",
    "print(\"For the default threshold (0.5) we get precision = %f \"\n",
    "      \"and recall = %f\" % (precision2, recall2))"
   ]
  },
  {
   "cell_type": "code",
   "execution_count": 20,
   "metadata": {},
   "outputs": [
    {
     "name": "stdout",
     "output_type": "stream",
     "text": [
      "Precision as function of threshold:\n"
     ]
    },
    {
     "data": {
      "text/plain": [
       "<matplotlib.axes._subplots.AxesSubplot at 0x1ca5a2d0>"
      ]
     },
     "execution_count": 20,
     "metadata": {},
     "output_type": "execute_result"
    },
    {
     "data": {
      "image/png": "[encoded data removed]",
      "text/plain": [
       "<Figure size 432x288 with 1 Axes>"
      ]
     },
     "metadata": {},
     "output_type": "display_data"
    }
   ],
   "source": [
    "from sklearn.metrics import precision_recall_curve\n",
    "\n",
    "all_precision2, all_recall2, all_thresh2 = precision_recall_curve(D_train, prob2_train)\n",
    "\n",
    "print(\"Precision as function of threshold:\")\n",
    "pandas.Series(all_precision2[:-1], index=all_thresh2).plot()"
   ]
  },
  {
   "cell_type": "code",
   "execution_count": 21,
   "metadata": {},
   "outputs": [
    {
     "name": "stdout",
     "output_type": "stream",
     "text": [
      "Recall as function of threshold:\n"
     ]
    },
    {
     "data": {
      "text/plain": [
       "<matplotlib.axes._subplots.AxesSubplot at 0x1cc19850>"
      ]
     },
     "execution_count": 21,
     "metadata": {},
     "output_type": "execute_result"
    },
    {
     "data": {
      "image/png": "[encoded data removed]",
      "text/plain": [
       "<Figure size 432x288 with 1 Axes>"
      ]
     },
     "metadata": {},
     "output_type": "display_data"
    }
   ],
   "source": [
    "print(\"Recall as function of threshold:\")\n",
    "pandas.Series(all_recall2[:-1], index=all_thresh2).plot()"
   ]
  },
  {
   "cell_type": "code",
   "execution_count": 22,
   "metadata": {},
   "outputs": [
    {
     "name": "stdout",
     "output_type": "stream",
     "text": [
      "Recall as function of precision:\n"
     ]
    },
    {
     "data": {
      "text/plain": [
       "<matplotlib.axes._subplots.AxesSubplot at 0x1cd13530>"
      ]
     },
     "execution_count": 22,
     "metadata": {},
     "output_type": "execute_result"
    },
    {
     "data": {
      "image/png": "[encoded data removed]",
      "text/plain": [
       "<Figure size 432x288 with 1 Axes>"
      ]
     },
     "metadata": {},
     "output_type": "display_data"
    }
   ],
   "source": [
    "print(\"Recall as function of precision:\")\n",
    "pandas.Series(all_recall2[:-1], index=all_precision2[:-1]).plot()"
   ]
  },
  {
   "cell_type": "code",
   "execution_count": 23,
   "metadata": {},
   "outputs": [
    {
     "name": "stdout",
     "output_type": "stream",
     "text": [
      "Now the precision is 0.486546 and the recall is 0.159593\n"
     ]
    },
    {
     "data": {
      "text/plain": [
       "<matplotlib.axes._subplots.AxesSubplot at 0x1c8deff0>"
      ]
     },
     "execution_count": 23,
     "metadata": {},
     "output_type": "execute_result"
    },
    {
     "data": {
      "image/png": "[encoded data removed]",
      "text/plain": [
       "<Figure size 432x288 with 1 Axes>"
      ]
     },
     "metadata": {},
     "output_type": "display_data"
    }
   ],
   "source": [
    "from sklearn.naive_bayes import GaussianNB, BernoulliNB\n",
    "\n",
    "nb = GaussianNB().fit(X_train, D_train)\n",
    "prob3_train = nb.predict_proba(X_train)[:,1]\n",
    "pred3_train = prob3_train > 0.5\n",
    "precision3 = precision_score(D_train, pred3_train)\n",
    "recall3 = recall_score(D_train, pred3_train)\n",
    "\n",
    "print(\"Now the precision is %f and the recall is %f\" % (precision3, recall3))\n",
    "all_precision3, all_recall3, all_thresh3 = precision_recall_curve(D_train, prob3_train)\n",
    "\n",
    "pandas.Series(all_recall3[:-1], index=all_precision3[:-1]).plot()"
   ]
  },
  {
   "cell_type": "markdown",
   "metadata": {},
   "source": [
    "[Chapter 6][1] of NLTK book describes what Naive-Bayes models are.\n",
    "\n",
    "[1]: http://www.nltk.org/book/ch06.html"
   ]
  },
  {
   "cell_type": "markdown",
   "metadata": {},
   "source": [
    "## TensorFlow\n",
    "\n",
    "**Linear Regression with TensorFlow**\n",
    "\n",
    "\n",
    "Step 1: Make sure you follow [installation guide of TensorFlow][1] and then you will be able to import it. \n",
    "\n",
    "**Note**: TensorFlow doesn't support Python 3.7 yet!\n",
    "\n",
    "[1]: https://www.tensorflow.org/"
   ]
  },
  {
   "cell_type": "code",
   "execution_count": 27,
   "metadata": {},
   "outputs": [
    {
     "name": "stdout",
     "output_type": "stream",
     "text": [
      "INFO:tensorflow:Using default config.\n",
      "WARNING:tensorflow:Using temporary folder as model directory: /tmp/tmp88oyigm2\n",
      "INFO:tensorflow:Using config: {'_task_id': 0, '_keep_checkpoint_every_n_hours': 10000, '_log_step_count_steps': 100, '_is_chief': True, '_master': '', '_session_config': None, '_task_type': 'worker', '_save_summary_steps': 100, '_tf_random_seed': None, '_service': None, '_save_checkpoints_steps': None, '_model_dir': '/tmp/tmp88oyigm2', '_num_worker_replicas': 1, '_cluster_spec': <tensorflow.python.training.server_lib.ClusterSpec object at 0x7f149a7be358>, '_save_checkpoints_secs': 600, '_num_ps_replicas': 0, '_keep_checkpoint_max': 5}\n",
      "INFO:tensorflow:Create CheckpointSaverHook.\n",
      "INFO:tensorflow:Saving checkpoints for 1 into /tmp/tmp88oyigm2/model.ckpt.\n",
      "INFO:tensorflow:step = 1, loss = 2398.0\n",
      "INFO:tensorflow:global_step/sec: 739.663\n",
      "INFO:tensorflow:step = 101, loss = 259.408 (0.137 sec)\n",
      "INFO:tensorflow:global_step/sec: 725.27\n",
      "INFO:tensorflow:step = 201, loss = 194.693 (0.137 sec)\n",
      "INFO:tensorflow:global_step/sec: 781.081\n",
      "INFO:tensorflow:step = 301, loss = 129.522 (0.129 sec)\n",
      "INFO:tensorflow:global_step/sec: 689.299\n",
      "INFO:tensorflow:step = 401, loss = 117.315 (0.144 sec)\n",
      "INFO:tensorflow:global_step/sec: 764.243\n",
      "INFO:tensorflow:step = 501, loss = 192.923 (0.131 sec)\n",
      "INFO:tensorflow:global_step/sec: 706\n",
      "INFO:tensorflow:step = 601, loss = 233.517 (0.142 sec)\n",
      "INFO:tensorflow:global_step/sec: 722.686\n",
      "INFO:tensorflow:step = 701, loss = 192.72 (0.138 sec)\n",
      "INFO:tensorflow:global_step/sec: 659.659\n",
      "INFO:tensorflow:step = 801, loss = 117.367 (0.153 sec)\n",
      "INFO:tensorflow:global_step/sec: 772.856\n",
      "INFO:tensorflow:step = 901, loss = 171.072 (0.129 sec)\n",
      "INFO:tensorflow:global_step/sec: 719.288\n",
      "INFO:tensorflow:step = 1001, loss = 119.473 (0.138 sec)\n",
      "INFO:tensorflow:global_step/sec: 401.942\n",
      "INFO:tensorflow:step = 1101, loss = 148.636 (0.249 sec)\n",
      "INFO:tensorflow:global_step/sec: 715.588\n",
      "INFO:tensorflow:step = 1201, loss = 149.077 (0.139 sec)\n",
      "INFO:tensorflow:global_step/sec: 437.41\n",
      "INFO:tensorflow:step = 1301, loss = 222.594 (0.230 sec)\n",
      "INFO:tensorflow:global_step/sec: 685.9\n",
      "INFO:tensorflow:step = 1401, loss = 181.853 (0.144 sec)\n",
      "INFO:tensorflow:global_step/sec: 731.458\n",
      "INFO:tensorflow:step = 1501, loss = 180.673 (0.137 sec)\n",
      "INFO:tensorflow:global_step/sec: 793.904\n",
      "INFO:tensorflow:step = 1601, loss = 139.314 (0.126 sec)\n",
      "INFO:tensorflow:global_step/sec: 710.962\n",
      "INFO:tensorflow:step = 1701, loss = 193.261 (0.142 sec)\n",
      "INFO:tensorflow:global_step/sec: 704.409\n",
      "INFO:tensorflow:step = 1801, loss = 196.275 (0.141 sec)\n",
      "INFO:tensorflow:global_step/sec: 716.145\n",
      "INFO:tensorflow:step = 1901, loss = 105.351 (0.145 sec)\n",
      "INFO:tensorflow:global_step/sec: 736.217\n",
      "INFO:tensorflow:step = 2001, loss = 145.752 (0.132 sec)\n",
      "INFO:tensorflow:global_step/sec: 756.999\n",
      "INFO:tensorflow:step = 2101, loss = 124.296 (0.131 sec)\n",
      "INFO:tensorflow:global_step/sec: 802.939\n",
      "INFO:tensorflow:step = 2201, loss = 189.083 (0.125 sec)\n",
      "INFO:tensorflow:global_step/sec: 723.849\n",
      "INFO:tensorflow:step = 2301, loss = 115.819 (0.138 sec)\n",
      "INFO:tensorflow:global_step/sec: 716.892\n",
      "INFO:tensorflow:step = 2401, loss = 161.745 (0.141 sec)\n",
      "INFO:tensorflow:global_step/sec: 618.578\n",
      "INFO:tensorflow:step = 2501, loss = 169.629 (0.161 sec)\n",
      "INFO:tensorflow:global_step/sec: 554.988\n",
      "INFO:tensorflow:step = 2601, loss = 170.795 (0.179 sec)\n",
      "INFO:tensorflow:global_step/sec: 786.671\n",
      "INFO:tensorflow:step = 2701, loss = 179.496 (0.129 sec)\n",
      "INFO:tensorflow:global_step/sec: 432.454\n",
      "INFO:tensorflow:step = 2801, loss = 128.101 (0.229 sec)\n",
      "INFO:tensorflow:global_step/sec: 814.344\n",
      "INFO:tensorflow:step = 2901, loss = 130.472 (0.124 sec)\n",
      "INFO:tensorflow:global_step/sec: 710.295\n",
      "INFO:tensorflow:step = 3001, loss = 108.056 (0.140 sec)\n",
      "INFO:tensorflow:global_step/sec: 737.332\n",
      "INFO:tensorflow:step = 3101, loss = 135.341 (0.136 sec)\n",
      "INFO:tensorflow:global_step/sec: 773.48\n",
      "INFO:tensorflow:step = 3201, loss = 209.301 (0.129 sec)\n",
      "INFO:tensorflow:global_step/sec: 762.644\n",
      "INFO:tensorflow:step = 3301, loss = 168.339 (0.132 sec)\n",
      "INFO:tensorflow:global_step/sec: 721.943\n",
      "INFO:tensorflow:step = 3401, loss = 144.021 (0.137 sec)\n",
      "INFO:tensorflow:global_step/sec: 724.874\n",
      "INFO:tensorflow:step = 3501, loss = 149.688 (0.138 sec)\n",
      "INFO:tensorflow:global_step/sec: 765.346\n",
      "INFO:tensorflow:step = 3601, loss = 173.169 (0.135 sec)\n",
      "INFO:tensorflow:global_step/sec: 677.192\n",
      "INFO:tensorflow:step = 3701, loss = 141.723 (0.143 sec)\n",
      "INFO:tensorflow:global_step/sec: 814.972\n",
      "INFO:tensorflow:step = 3801, loss = 148.204 (0.124 sec)\n",
      "INFO:tensorflow:global_step/sec: 712.342\n",
      "INFO:tensorflow:step = 3901, loss = 129.751 (0.140 sec)\n",
      "INFO:tensorflow:global_step/sec: 750.144\n",
      "INFO:tensorflow:step = 4001, loss = 168.46 (0.132 sec)\n",
      "INFO:tensorflow:global_step/sec: 777.112\n",
      "INFO:tensorflow:step = 4101, loss = 112.758 (0.129 sec)\n",
      "INFO:tensorflow:global_step/sec: 424.757\n",
      "INFO:tensorflow:step = 4201, loss = 156.215 (0.237 sec)\n",
      "INFO:tensorflow:global_step/sec: 769.494\n",
      "INFO:tensorflow:step = 4301, loss = 145.181 (0.129 sec)\n",
      "INFO:tensorflow:global_step/sec: 461.958\n",
      "INFO:tensorflow:step = 4401, loss = 189.94 (0.218 sec)\n",
      "INFO:tensorflow:global_step/sec: 743.154\n",
      "INFO:tensorflow:step = 4501, loss = 137.857 (0.133 sec)\n",
      "INFO:tensorflow:global_step/sec: 454.947\n",
      "INFO:tensorflow:step = 4601, loss = 137.665 (0.220 sec)\n",
      "INFO:tensorflow:global_step/sec: 598.547\n",
      "INFO:tensorflow:step = 4701, loss = 130.927 (0.166 sec)\n",
      "INFO:tensorflow:global_step/sec: 784.566\n",
      "INFO:tensorflow:step = 4801, loss = 117.436 (0.127 sec)\n",
      "INFO:tensorflow:global_step/sec: 663.381\n",
      "INFO:tensorflow:step = 4901, loss = 96.9305 (0.151 sec)\n",
      "INFO:tensorflow:Saving checkpoints for 5000 into /tmp/tmp88oyigm2/model.ckpt.\n",
      "INFO:tensorflow:Loss for final step: 169.975.\n"
     ]
    },
    {
     "data": {
      "text/plain": [
       "<tensorflow.python.estimator.canned.linear.LinearRegressor at 0x7f14926e9198>"
      ]
     },
     "execution_count": 27,
     "metadata": {},
     "output_type": "execute_result"
    }
   ],
   "source": [
    "import tensorflow as tf\n",
    "\n",
    "feat_cols = [tf.feature_column.numeric_column(key=\"fpos\"), tf.feature_column.numeric_column(key=\"fneg\")]\n",
    "\n",
    "model = tf.estimator.LinearRegressor(feature_columns=feat_cols)\n",
    "\n",
    "get_training_data = tf.estimator.inputs.numpy_input_fn(\n",
    "                        x = {\"fpos\" : X_train[:,0], \"fneg\" : X_train[:,1]},\n",
    "                        y = Y_train, \n",
    "                        num_epochs=None, \n",
    "                        shuffle=True)\n",
    "\n",
    "model.train(input_fn=get_training_data, steps=5000)\n"
   ]
  },
  {
   "cell_type": "code",
   "execution_count": 28,
   "metadata": {},
   "outputs": [
    {
     "name": "stdout",
     "output_type": "stream",
     "text": [
      "INFO:tensorflow:Restoring parameters from /tmp/tmp88oyigm2/model.ckpt-5000\n",
      "The mean absolute error on the training data is 0.843144 stars\n"
     ]
    }
   ],
   "source": [
    "eval_training_data = tf.estimator.inputs.numpy_input_fn(\n",
    "                        x = {\"fpos\":X_train[:,0], \"fneg\": X_train[:,1]},\n",
    "                        num_epochs = 1, \n",
    "                        shuffle = False)\n",
    "\n",
    "pred_train_tf = numpy.array([item['predictions'][0] for item in model.predict(input_fn=eval_training_data)])\n",
    "\n",
    "mae_train_tf = mean_absolute_error(pred_train_tf, Y_train)\n",
    "\n",
    "print(\"The mean absolute error on the training data is %f stars\" % mae_train_tf)"
   ]
  },
  {
   "cell_type": "markdown",
   "metadata": {},
   "source": [
    "\n",
    "## NLTK Built-In Sentiment Analyzer\n"
   ]
  },
  {
   "cell_type": "code",
   "execution_count": 25,
   "metadata": {},
   "outputs": [
    {
     "name": "stdout",
     "output_type": "stream",
     "text": [
      "Sentence = This product wasn't bad.\n",
      "['this', 'product', 'was', \"n't\", 'bad_NEG', '.']\n",
      "Sentence = This is not a bad product.\n",
      "['this', 'is', 'not', 'a_NEG', 'bad_NEG', 'product_NEG', '.']\n",
      "Sentence = This product was bad.\n",
      "['this', 'product', 'was', 'bad', '.']\n",
      "Sentence = This is a bad product.\n",
      "['this', 'is', 'a', 'bad', 'product', '.']\n",
      "We bought these trucks for our 15 mo. old daughter and 4 mo. old son- We love them!  They are nesting which is fun for our daughter to look underneath the trucks to find the next one or they can stack one on top of the other to make a tower.  Perfect first trucks!  And they aren't too big- a perfect size!\n",
      "\n",
      "['bought', 'trucks', 'mo', 'old', 'daughter', 'mo', 'old', 'son-', 'love', 'nesting', 'fun', 'daughter', 'look', 'underneath', 'trucks', 'find', 'next', 'one', 'stack', 'one', 'top', 'make', 'tower', 'perfect', 'first', 'trucks', \"n't\", 'big-_NEG', 'perfect_NEG', 'size_NEG']\n"
     ]
    }
   ],
   "source": [
    "from nltk.sentiment import SentimentAnalyzer\n",
    "from nltk.sentiment.util import mark_negation\n",
    "\n",
    "examples_negation = [\"This product wasn't bad.\",\n",
    "                     \"This is not a bad product.\",\n",
    "                     \"This product was bad.\",\n",
    "                     \"This is a bad product.\"]\n",
    "\n",
    "for sentence in examples_negation:\n",
    "    tokens_with_negation = mark_negation(word_tokenize(sentence.lower()))\n",
    "    print(\"Sentence =\", sentence)\n",
    "    print(tokens_with_negation)\n",
    "\n",
    "negated_stopwords = set(x + \"_NEG\" for x in eng_stopwords)\n",
    "all_stopwords = eng_stopwords.union(negated_stopwords)        # set union\n",
    "    \n",
    "def tokenize_with_negation(text):\n",
    "    \"\"\"\n",
    "    Split text into lower-case tokens, removing all-punctuation tokens and stopwords\n",
    "    \"\"\" \n",
    "    tokens = []\n",
    "    for sentence in sent_tokenize(text):\n",
    "        pretokens = word_tokenize(sentence.lower())\n",
    "        pretokens = [x for x in pretokens if any(i.isalpha() for i in x)]\n",
    "        pretokens = mark_negation(pretokens)\n",
    "        tokens.extend(x for x in pretokens if x not in all_stopwords)\n",
    "    return tokens\n",
    "\n",
    "print(baby_train[31]['reviewText'])\n",
    "print()\n",
    "print(tokenize_with_negation(baby_train[31]['reviewText']))"
   ]
  },
  {
   "cell_type": "code",
   "execution_count": 26,
   "metadata": {},
   "outputs": [
    {
     "name": "stdout",
     "output_type": "stream",
     "text": [
      "(0.8571428571428571, 0.0)\n",
      "(0.0, 0.8571428571428571)\n"
     ]
    }
   ],
   "source": [
    "all_positive_words = positive_words.union({x + \"_NEG\" for x in negative_words})\n",
    "all_negative_words = negative_words.union({x + \"_NEG\" for x in positive_words})\n",
    "\n",
    "def pos_neg_fraction_with_negation(text):\n",
    "    tokens = tokenize_with_negation(text)\n",
    "    # count how many positive and negative words occur in the text\n",
    "    count_pos, count_neg = 0, 0\n",
    "    for t in tokens:\n",
    "        if t in all_positive_words:\n",
    "            count_pos += 1\n",
    "        if t in all_negative_words:\n",
    "            count_neg += 1\n",
    "    count_all = len(tokens)\n",
    "    if count_all != 0:\n",
    "        return count_pos/count_all, count_neg/count_all\n",
    "    else:  # avoid division by zero\n",
    "        return 0., 0.\n",
    "    \n",
    "pos_example = 'This is a good, great, fantastic, amazing, wonderful, super product!!!'\n",
    "neg_example = 'This is a bad, atrocious, terrible, dreadful, awful, abysmal product!!!'\n",
    "print(pos_neg_fraction_with_negation(pos_example))\n",
    "print(pos_neg_fraction_with_negation(neg_example))    "
   ]
  },
  {
   "cell_type": "code",
   "execution_count": 27,
   "metadata": {},
   "outputs": [
    {
     "name": "stdout",
     "output_type": "stream",
     "text": [
      "(0.0, 0.8571428571428571)\n",
      "(0.8571428571428571, 0.0)\n"
     ]
    }
   ],
   "source": [
    "pos_example_neg = 'This is not a good, great, fantastic, amazing, wonderful, super product!!!'\n",
    "neg_example_neg = 'This is not a bad, atrocious, terrible, dreadful, awful, abysmal product!!!'\n",
    "print(pos_neg_fraction_with_negation(pos_example_neg))\n",
    "print(pos_neg_fraction_with_negation(neg_example_neg))    "
   ]
  },
  {
   "cell_type": "code",
   "execution_count": 28,
   "metadata": {},
   "outputs": [],
   "source": [
    "def dataset_to_matrix_with_neg(data):\n",
    "    return numpy.array([list(pos_neg_fraction_with_negation(item['reviewText'])) for item in data])\n",
    "\n",
    "X_train_neg = dataset_to_matrix_with_neg(baby_train)"
   ]
  },
  {
   "cell_type": "code",
   "execution_count": 31,
   "metadata": {},
   "outputs": [
    {
     "name": "stdout",
     "output_type": "stream",
     "text": [
      "Now the mean absolute error on the training data is 0.815012 stars\n"
     ]
    }
   ],
   "source": [
    "from sklearn.linear_model import LinearRegression\n",
    "from sklearn.metrics import mean_absolute_error\n",
    "\n",
    "lreg_neg = LinearRegression().fit(X_train_neg, Y_train)\n",
    "pred_train_neg = lreg_neg.predict(X_train_neg)\n",
    "mae_train_with_neg = mean_absolute_error(pred_train_neg, Y_train)\n",
    "\n",
    "print(\"Now the mean absolute error on the training data is %f stars\" % mae_train_with_neg)"
   ]
  },
  {
   "cell_type": "markdown",
   "metadata": {},
   "source": [
    "\n",
    "## Random Forest Regressor\n"
   ]
  },
  {
   "cell_type": "code",
   "execution_count": 33,
   "metadata": {},
   "outputs": [
    {
     "name": "stdout",
     "output_type": "stream",
     "text": [
      "A nonlinear regressor achieves a MAE of 0.711644 stars\n"
     ]
    }
   ],
   "source": [
    "from sklearn.ensemble import RandomForestRegressor\n",
    "\n",
    "rf_neg = RandomForestRegressor().fit(X_train_neg, Y_train)\n",
    "pred_train_rf_neg = rf_neg.predict(X_train_neg)\n",
    "mae_train_rf_neg = mean_absolute_error(pred_train_rf_neg, Y_train)\n",
    "\n",
    "print(\"A nonlinear regressor achieves a MAE of %f stars\" % mae_train_rf_neg)"
   ]
  },
  {
   "cell_type": "markdown",
   "metadata": {},
   "source": [
    "\n",
    "### Promising Models Shortlist \n",
    "\n",
    "**Note:**\n",
    "> If the data is huge, you may want to sample smaller training sets so you can train many different models in a reasonable time (be aware that this penalizes complex models such as large neural nets or Random Forests). Once again, try to automate these steps as much as possible.\n",
    "\n",
    "1. Train many quick and dirty models from different categories (e.g., Linear, Naive Bayes, SVM (Support Vector Machine), Random Forests, Neural nets, etc.) using standard parameters.\n",
    "2. Measure and compare their performance. For each model, use N-fold cross-validation and compute the mean and standard deviation of the performance measure on the N folds.\n",
    "3. Analyze the most significant variables for each algorithm.\n",
    "4. Analyze the types of errors the models make. What data would a human have used to avoid these errors?\n",
    "5. Have a quick round of feature selection and engineering.\n",
    "6. Have one or two more quick iterations of the five previous steps.\n",
    "7. Shortlist the top three to five most promising models, preferring models that make different types of errors.\n",
    "\n",
    "Source: p. 646. [Hands-on Machine Learning]\n",
    "\n",
    "[1]: http://shop.oreilly.com/product/0636920052289.do"
   ]
  },
  {
   "cell_type": "markdown",
   "metadata": {},
   "source": [
    "### Advanced Homework\n",
    "\n",
    "- add features\n",
    "- explain which features you chose, implement them, and write a commentary on your results\n",
    "- feel welcome to use NLTK's built-in **Sentiment Analyzer** or any other research that you can find and understand"
   ]
  }
 ],
 "metadata": {
  "kernelspec": {
   "display_name": "Python 3",
   "language": "python",
   "name": "python3"
  },
  "language_info": {
   "codemirror_mode": {
    "name": "ipython",
    "version": 3
   },
   "file_extension": ".py",
   "mimetype": "text/x-python",
   "name": "python",
   "nbconvert_exporter": "python",
   "pygments_lexer": "ipython3",
   "version": "3.7.0"
  }
 },
 "nbformat": 4,
 "nbformat_minor": 2
}
